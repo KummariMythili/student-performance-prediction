{
 "cells": [
  {
   "cell_type": "code",
   "execution_count": 17,
   "id": "f400e5ff",
   "metadata": {},
   "outputs": [
    {
     "name": "stdout",
     "output_type": "stream",
     "text": [
      "Columns: Index(['studytime', 'failures', 'absences', 'G1', 'G2', 'Pass_Fail'], dtype='object')\n",
      "   studytime  failures  absences  G1  G2  Pass_Fail\n",
      "0          1         3         7  20  17          1\n",
      "1          2         1         3   3  11          0\n",
      "2          4         2        13  11  15          1\n",
      "3          4         1        25   8  12          1\n",
      "4          3         0        22   1   0          0\n",
      "Class Distribution:\n",
      " Pass_Fail\n",
      "1    1000\n",
      "0     921\n",
      "Name: count, dtype: int64\n",
      "\n",
      "Accuracy: 0.9584415584415584\n",
      "Classification Report:\n",
      "               precision    recall  f1-score   support\n",
      "\n",
      "           0       0.97      0.95      0.96       185\n",
      "           1       0.95      0.97      0.96       200\n",
      "\n",
      "    accuracy                           0.96       385\n",
      "   macro avg       0.96      0.96      0.96       385\n",
      "weighted avg       0.96      0.96      0.96       385\n",
      "\n",
      "✅ Model saved to ../App/model/fine_tune.pkl\n"
     ]
    }
   ],
   "source": [
    "### ✅ Student Performance Prediction Training Notebook\n",
    "# training_notebook.ipynb\n",
    "\n",
    "import pandas as pd\n",
    "from sklearn.model_selection import train_test_split\n",
    "from sklearn.ensemble import GradientBoostingClassifier\n",
    "from sklearn.metrics import accuracy_score, classification_report\n",
    "import joblib\n",
    "\n",
    "# ✅ Load your dataset\n",
    "file_path = \"../Data/your_dataset.csv\"\n",
    "df = pd.read_csv(file_path)\n",
    "\n",
    "# ✅ Confirm correct columns\n",
    "print(\"Columns:\", df.columns)\n",
    "print(df[['studytime', 'failures', 'absences', 'G1', 'G2', 'Pass_Fail']].head())\n",
    "\n",
    "# ✅ Features and target\n",
    "features = ['studytime', 'failures', 'absences', 'G1', 'G2']\n",
    "target = 'Pass_Fail'\n",
    "\n",
    "X = df[features]\n",
    "y = df[target]\n",
    "\n",
    "# ✅ Check target class distribution\n",
    "print(\"Class Distribution:\\n\", y.value_counts())\n",
    "\n",
    "# ✅ Split data\n",
    "X_train, X_test, y_train, y_test = train_test_split(X, y, stratify=y, test_size=0.2, random_state=42)\n",
    "\n",
    "# ✅ Train the model\n",
    "model = GradientBoostingClassifier()\n",
    "model.fit(X_train, y_train)\n",
    "\n",
    "# ✅ Evaluate the model\n",
    "y_pred = model.predict(X_test)\n",
    "print(\"\\nAccuracy:\", accuracy_score(y_test, y_pred))\n",
    "print(\"Classification Report:\\n\", classification_report(y_test, y_pred))\n",
    "\n",
    "# ✅ Save the model\n",
    "joblib.dump(model, \"../App/model/fine_tune.pkl\")\n",
    "print(\"✅ Model saved to ../App/model/fine_tune.pkl\")\n"
   ]
  }
 ],
 "metadata": {
  "kernelspec": {
   "display_name": "student_env",
   "language": "python",
   "name": "python3"
  },
  "language_info": {
   "codemirror_mode": {
    "name": "ipython",
    "version": 3
   },
   "file_extension": ".py",
   "mimetype": "text/x-python",
   "name": "python",
   "nbconvert_exporter": "python",
   "pygments_lexer": "ipython3",
   "version": "3.10.18"
  }
 },
 "nbformat": 4,
 "nbformat_minor": 5
}
