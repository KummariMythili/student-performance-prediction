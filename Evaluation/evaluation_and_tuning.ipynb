{
 "cells": [
  {
   "cell_type": "code",
   "execution_count": 3,
   "id": "f400e5ff",
   "metadata": {},
   "outputs": [
    {
     "name": "stdout",
     "output_type": "stream",
     "text": [
      "✅ Best Hyperparameters: {'learning_rate': 0.01, 'max_depth': 3, 'n_estimators': 100}\n",
      "✅ Fine-tuned Gradient Boosting model saved as fine_tune.pkl\n"
     ]
    }
   ],
   "source": [
    "import pandas as pd\n",
    "from sklearn.ensemble import GradientBoostingClassifier\n",
    "from sklearn.model_selection import GridSearchCV\n",
    "import joblib\n",
    "\n",
    "# Load Preprocessed Data\n",
    "data = pd.read_csv('../Data/preprocessed_data.csv')\n",
    "\n",
    "# Define Features and Target\n",
    "feature_columns = ['studytime', 'failures', 'absences', 'G1', 'G2', 'avg_grade', 'studytime_level']\n",
    "X = data[feature_columns]\n",
    "y = data['Pass_Fail']\n",
    "\n",
    "# Define Hyperparameter Grid\n",
    "param_grid = {\n",
    "    'n_estimators': [100, 150, 200],\n",
    "    'learning_rate': [0.01, 0.05, 0.1],\n",
    "    'max_depth': [3, 4, 5]\n",
    "}\n",
    "\n",
    "# Set up Grid Search\n",
    "grid_search = GridSearchCV(\n",
    "    estimator=GradientBoostingClassifier(random_state=42),\n",
    "    param_grid=param_grid,\n",
    "    cv=5,\n",
    "    scoring='accuracy',\n",
    "    n_jobs=-1\n",
    ")\n",
    "\n",
    "# Fit Grid Search\n",
    "grid_search.fit(X, y)\n",
    "\n",
    "# Retrieve Best Model\n",
    "best_model = grid_search.best_estimator_\n",
    "print(\"✅ Best Hyperparameters:\", grid_search.best_params_)\n",
    "\n",
    "# Save Fine-Tuned Model\n",
    "joblib.dump(best_model, '../App/model/fine_tune.pkl')\n",
    "\n",
    "print(\"✅ Fine-tuned Gradient Boosting model saved as fine_tune.pkl\")"
   ]
  }
 ],
 "metadata": {
  "kernelspec": {
   "display_name": "student_env",
   "language": "python",
   "name": "python3"
  },
  "language_info": {
   "codemirror_mode": {
    "name": "ipython",
    "version": 3
   },
   "file_extension": ".py",
   "mimetype": "text/x-python",
   "name": "python",
   "nbconvert_exporter": "python",
   "pygments_lexer": "ipython3",
   "version": "3.10.18"
  }
 },
 "nbformat": 4,
 "nbformat_minor": 5
}
