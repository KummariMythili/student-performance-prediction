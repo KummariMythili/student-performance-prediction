{
 "cells": [
  {
   "cell_type": "code",
   "execution_count": 2,
   "id": "6e26484c",
   "metadata": {},
   "outputs": [
    {
     "name": "stdout",
     "output_type": "stream",
     "text": [
      "✅ Best model (Gradient Boosting) trained and saved as model.pkl\n"
     ]
    }
   ],
   "source": [
    "import pandas as pd\n",
    "from sklearn.ensemble import GradientBoostingClassifier\n",
    "import joblib\n",
    "\n",
    "# Load Preprocessed Data\n",
    "data = pd.read_csv('../Data/preprocessed_data.csv')\n",
    "\n",
    "# Define Features and Target\n",
    "feature_columns = ['studytime', 'failures', 'absences', 'G1', 'G2', 'avg_grade', 'studytime_level']\n",
    "X = data[feature_columns]\n",
    "y = data['Pass_Fail']\n",
    "\n",
    "# Train Gradient Boosting Model (Best Accuracy: 0.9608)\n",
    "best_model = GradientBoostingClassifier(random_state=42)\n",
    "best_model.fit(X, y)\n",
    "\n",
    "# Save the Best Model\n",
    "joblib.dump(best_model, '../App/model/model.pkl')\n",
    "\n",
    "print(\"✅ Best model (Gradient Boosting) trained and saved as model.pkl\")"
   ]
  }
 ],
 "metadata": {
  "kernelspec": {
   "display_name": "student_env",
   "language": "python",
   "name": "python3"
  },
  "language_info": {
   "codemirror_mode": {
    "name": "ipython",
    "version": 3
   },
   "file_extension": ".py",
   "mimetype": "text/x-python",
   "name": "python",
   "nbconvert_exporter": "python",
   "pygments_lexer": "ipython3",
   "version": "3.10.18"
  }
 },
 "nbformat": 4,
 "nbformat_minor": 5
}
