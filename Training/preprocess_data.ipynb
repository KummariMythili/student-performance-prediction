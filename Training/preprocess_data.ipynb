{
 "cells": [
  {
   "cell_type": "code",
   "execution_count": 19,
   "id": "1c1680d4",
   "metadata": {},
   "outputs": [
    {
     "name": "stdout",
     "output_type": "stream",
     "text": [
      "✅ Preprocessing completed. Cleaned & transformed data saved as preprocessed_data.csv\n"
     ]
    }
   ],
   "source": [
    "# Import libraries\n",
    "import pandas as pd\n",
    "import numpy as np\n",
    "from sklearn.preprocessing import LabelEncoder, StandardScaler\n",
    "\n",
    "# Load data\n",
    "data = pd.read_csv('../Data/your_dataset.csv')\n",
    "\n",
    "# ---------------------------------\n",
    "# 🔹 Data Cleaning\n",
    "# ---------------------------------\n",
    "# Remove duplicates if any\n",
    "data.drop_duplicates(inplace=True)\n",
    "\n",
    "# Remove rows with missing values (or you can choose to fill them)\n",
    "data.dropna(inplace=True)\n",
    "\n",
    "# Remove any obvious outliers (example: negative study time or impossible values)\n",
    "data = data[(data['studytime'] >= 0) & (data['absences'] >= 0) & (data['failures'] >= 0)]\n",
    "\n",
    "# ---------------------------------\n",
    "# 🔹 Data Transformation\n",
    "# ---------------------------------\n",
    "# Cap extreme absences (optional)\n",
    "data['absences'] = np.where(data['absences'] > 50, 50, data['absences'])\n",
    "\n",
    "# ---------------------------------\n",
    "# 🔹 Feature Engineering\n",
    "# ---------------------------------\n",
    "# Create average grade feature\n",
    "data['avg_grade'] = (data['G1'] + data['G2']) / 2\n",
    "\n",
    "# Binarize studytime (optional: low vs high study)\n",
    "data['studytime_level'] = np.where(data['studytime'] < 2, 'Low', 'High')\n",
    "\n",
    "# ---------------------------------\n",
    "# 🔹 Encode Categorical Features\n",
    "# ---------------------------------\n",
    "label_encoder = LabelEncoder()\n",
    "\n",
    "# Encode target variable 'pass_fail'\n",
    "data['Pass_Fail'] = label_encoder.fit_transform(data['Pass_Fail'])\n",
    "\n",
    "# Encode studytime_level (new feature)\n",
    "data['studytime_level'] = label_encoder.fit_transform(data['studytime_level'])\n",
    "\n",
    "# ---------------------------------\n",
    "# 🔹 Feature Scaling (Transformation)\n",
    "# ---------------------------------\n",
    "scaler = StandardScaler()\n",
    "numerical_features = ['studytime', 'failures', 'absences', 'G1', 'G2', 'avg_grade']\n",
    "\n",
    "data[numerical_features] = scaler.fit_transform(data[numerical_features])\n",
    "\n",
    "# ---------------------------------\n",
    "# 🔹 Save Preprocessed Data\n",
    "# ---------------------------------\n",
    "data.to_csv('../Data/preprocessed_data.csv', index=False)\n",
    "\n",
    "print(\"✅ Preprocessing completed. Cleaned & transformed data saved as preprocessed_data.csv\")\n"
   ]
  }
 ],
 "metadata": {
  "kernelspec": {
   "display_name": "student_env",
   "language": "python",
   "name": "python3"
  },
  "language_info": {
   "codemirror_mode": {
    "name": "ipython",
    "version": 3
   },
   "file_extension": ".py",
   "mimetype": "text/x-python",
   "name": "python",
   "nbconvert_exporter": "python",
   "pygments_lexer": "ipython3",
   "version": "3.10.18"
  }
 },
 "nbformat": 4,
 "nbformat_minor": 5
}
